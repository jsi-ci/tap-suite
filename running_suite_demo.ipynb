{
 "cells": [
  {
   "metadata": {},
   "cell_type": "markdown",
   "source": [
    "# tap-suite\n",
    "A Suite and Generator of Tunnel Alignment Problems"
   ],
   "id": "97e148234fe093bf"
  },
  {
   "metadata": {
    "ExecuteTime": {
     "end_time": "2025-05-06T15:32:04.672123Z",
     "start_time": "2025-05-06T15:32:04.658132Z"
    }
   },
   "cell_type": "code",
   "source": "from tap.suite import get_tap_suite",
   "id": "e5eca2f5320211bb",
   "outputs": [],
   "execution_count": 34
  },
  {
   "metadata": {},
   "cell_type": "markdown",
   "source": "###  Run suite problems with Pymoo",
   "id": "a380fdd63e5ae6b1"
  },
  {
   "metadata": {
    "ExecuteTime": {
     "end_time": "2025-05-06T15:32:04.688050Z",
     "start_time": "2025-05-06T15:32:04.674089Z"
    }
   },
   "cell_type": "code",
   "source": [
    "from pymoo.algorithms.moo.nsga2 import NSGA2\n",
    "from pymoo.optimize import minimize\n",
    "from pymoo.termination import get_termination"
   ],
   "id": "163b1f44dfc91485",
   "outputs": [],
   "execution_count": 35
  },
  {
   "metadata": {
    "ExecuteTime": {
     "end_time": "2025-05-06T15:32:04.718998Z",
     "start_time": "2025-05-06T15:32:04.691043Z"
    }
   },
   "cell_type": "code",
   "source": [
    "suite = get_tap_suite(\"pymoo\")\n",
    "suite"
   ],
   "id": "7639ce8c0da4356c",
   "outputs": [
    {
     "data": {
      "text/plain": [
       "{'problem_01': <tap.pymoo_problem.PymooProblem at 0x1c2e518b670>,\n",
       " 'problem_02': <tap.pymoo_problem.PymooProblem at 0x1c2e518ba30>,\n",
       " 'problem_03': <tap.pymoo_problem.PymooProblem at 0x1c2e5260970>,\n",
       " 'problem_04': <tap.pymoo_problem.PymooProblem at 0x1c2e5261120>,\n",
       " 'problem_05': <tap.pymoo_problem.PymooProblem at 0x1c2e5260790>,\n",
       " 'problem_06': <tap.pymoo_problem.PymooProblem at 0x1c2e5260be0>,\n",
       " 'problem_07': <tap.pymoo_problem.PymooProblem at 0x1c2e5260fd0>,\n",
       " 'problem_08': <tap.pymoo_problem.PymooProblem at 0x1c2e5262050>,\n",
       " 'problem_09': <tap.pymoo_problem.PymooProblem at 0x1c2e5261000>,\n",
       " 'problem_10': <tap.pymoo_problem.PymooProblem at 0x1c2e5260e50>,\n",
       " 'problem_11': <tap.pymoo_problem.PymooProblem at 0x1c2e5260d30>,\n",
       " 'problem_12': <tap.pymoo_problem.PymooProblem at 0x1c2e52620b0>}"
      ]
     },
     "execution_count": 36,
     "metadata": {},
     "output_type": "execute_result"
    }
   ],
   "execution_count": 36
  },
  {
   "metadata": {
    "ExecuteTime": {
     "end_time": "2025-05-06T15:32:42.444142Z",
     "start_time": "2025-05-06T15:32:04.721971Z"
    }
   },
   "cell_type": "code",
   "source": [
    "problem = suite[\"problem_04\"]\n",
    "algorithm = NSGA2(pop_size=100)\n",
    "termination = get_termination(\"n_eval\", 1000)\n",
    "minimize(problem, algorithm, termination, verbose=True)"
   ],
   "id": "1dfa63aec943e7e1",
   "outputs": [
    {
     "name": "stdout",
     "output_type": "stream",
     "text": [
      "==========================================================================================\n",
      "n_gen  |  n_eval  | n_nds  |     cv_min    |     cv_avg    |      eps      |   indicator  \n",
      "==========================================================================================\n",
      "     1 |      100 |      3 |  0.000000E+00 |  3.0970437952 |             - |             -\n",
      "     2 |      200 |      4 |  0.000000E+00 |  0.0183102910 |  0.0241828984 |         ideal\n",
      "     3 |      300 |      7 |  0.000000E+00 |  0.000000E+00 |  0.0167494859 |         ideal\n",
      "     4 |      400 |      8 |  0.000000E+00 |  0.000000E+00 |  0.3226273917 |         ideal\n",
      "     5 |      500 |      7 |  0.000000E+00 |  0.000000E+00 |  0.0495190665 |         ideal\n",
      "     6 |      600 |      8 |  0.000000E+00 |  0.000000E+00 |  0.0543457405 |         ideal\n",
      "     7 |      700 |     12 |  0.000000E+00 |  0.000000E+00 |  0.0376853236 |             f\n",
      "     8 |      800 |     11 |  0.000000E+00 |  0.000000E+00 |  0.0152298130 |         ideal\n",
      "     9 |      900 |     15 |  0.000000E+00 |  0.000000E+00 |  0.0405444601 |         ideal\n",
      "    10 |     1000 |      9 |  0.000000E+00 |  0.000000E+00 |  0.0251221088 |         nadir\n"
     ]
    },
    {
     "data": {
      "text/plain": [
       "<pymoo.core.result.Result at 0x1c2e52603a0>"
      ]
     },
     "execution_count": 37,
     "metadata": {},
     "output_type": "execute_result"
    }
   ],
   "execution_count": 37
  },
  {
   "metadata": {},
   "cell_type": "markdown",
   "source": "### Run suite problems with jMetalPy",
   "id": "cc2804629e3367b0"
  },
  {
   "metadata": {
    "ExecuteTime": {
     "end_time": "2025-05-06T15:32:42.460097Z",
     "start_time": "2025-05-06T15:32:42.446110Z"
    }
   },
   "cell_type": "code",
   "source": [
    "from jmetal.algorithm.multiobjective.nsgaii import NSGAII\n",
    "from jmetal.operator.crossover import SBXCrossover\n",
    "from jmetal.operator.mutation import PolynomialMutation\n",
    "from jmetal.util.termination_criterion import StoppingByEvaluations"
   ],
   "id": "86e6526e34fbc938",
   "outputs": [],
   "execution_count": 38
  },
  {
   "metadata": {},
   "cell_type": "code",
   "outputs": [],
   "execution_count": null,
   "source": "suite = get_tap_suite(\"jmetalpy\")",
   "id": "3875ccabccff2f64"
  },
  {
   "metadata": {},
   "cell_type": "code",
   "outputs": [],
   "execution_count": null,
   "source": [
    "problem = suite[\"problem_04\"]\n",
    "algorithm = NSGAII(\n",
    "    problem=problem,\n",
    "    population_size=100,\n",
    "    offspring_population_size=100,\n",
    "    mutation=PolynomialMutation(probability=1.0 / problem.number_of_variables(), distribution_index=20),\n",
    "    crossover=SBXCrossover(probability=1.0, distribution_index=20),\n",
    "    termination_criterion=StoppingByEvaluations(max_evaluations=1000)\n",
    ")\n",
    "algorithm.run()"
   ],
   "id": "3de134deedfaf90d"
  }
 ],
 "metadata": {
  "kernelspec": {
   "display_name": "Python 3",
   "language": "python",
   "name": "python3"
  },
  "language_info": {
   "codemirror_mode": {
    "name": "ipython",
    "version": 2
   },
   "file_extension": ".py",
   "mimetype": "text/x-python",
   "name": "python",
   "nbconvert_exporter": "python",
   "pygments_lexer": "ipython2",
   "version": "2.7.6"
  }
 },
 "nbformat": 4,
 "nbformat_minor": 5
}
